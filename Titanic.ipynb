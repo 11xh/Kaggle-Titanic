{
 "metadata": {
  "name": "Titanic"
 },
 "nbformat": 3,
 "nbformat_minor": 0,
 "worksheets": [
  {
   "cells": [
    {
     "cell_type": "markdown",
     "metadata": {},
     "source": [
      "##Kaggle Competition | Titanic Machine Learning from Disaster\n",
      "####Goal for this Notebook:\n",
      "Show a simple example of an analysis of the Titanic disaster in Python using a full complement <br />\n",
      "of PyData utiltites. This is aimed for those looking to get into the field or those who are already <br />\n",
      "in the field and looking to see an example of an analysis done with Python. \n",
      "<br />\n",
      "<br />\n",
      "####This Notebook will show basic examples of:\n",
      "<br />\n",
      "####Data Handleing\n",
      "*\tImporting Data with Pandas\n",
      "*\tCleaning Data\n",
      "*\tExploring Data Through Visualizations with Matplotlib\n",
      "\n",
      "####Data Analsysis\n",
      "*\t Supervised Machine learning Technique:\n",
      "    +\tLogit Regression Model \n",
      "    +\tPlotting results\n",
      "*\tUnsupervised Machine learning Techniques \n",
      "    +\tSupport Vecotr Machine (SVM) using 3 kernels\n",
      "    +\tPlotting results\n",
      "\n",
      "####Valuation of the Analysis\n",
      "*\tK-folds cross validation to valuate results locally\n",
      "*\tOutput the results from the Ipython Notebook \n",
      "\n",
      "<br />\n",
      "<br />\n",
      "####Required Libraries:\n",
      "* NumPy\n",
      "* Pandas\n",
      "* SciKit-Learn\n",
      "* SciPy\n",
      "* StatsModels\n",
      "* Patsy\n",
      "* Matplotlib\n"
     ]
    },
    {
     "cell_type": "code",
     "collapsed": false,
     "input": [
      "import pandas as pd\n",
      "import numpy as np\n",
      "import statsmodels.api as sm\n",
      "from statsmodels.nonparametric import KDE, smoothers_lowess\n",
      "from scipy import *\n",
      "from pandas import Series,DataFrame\n",
      "from patsy import dmatrices\n",
      "\n",
      "import pylab as pl\n",
      "from sklearn import datasets, svm\n",
      "\n",
      "#cd r'C:\\Users\\Andrew\\Documents\\Kaggle\\\\Titanic\\Dups/'\n",
      "#plt.figsize(8,8)"
     ],
     "language": "python",
     "metadata": {},
     "outputs": [],
     "prompt_number": 9
    },
    {
     "cell_type": "code",
     "collapsed": false,
     "input": [
      "#bring in some of my own custom functions\n",
      "import sys\n",
      "sys.path.append('C:\\Users\\Andrew\\Documents\\Kaggle\\Kaggel Aux')\n",
      "import kaggelaux as ka"
     ],
     "language": "python",
     "metadata": {},
     "outputs": [],
     "prompt_number": 10
    },
    {
     "cell_type": "markdown",
     "metadata": {},
     "source": [
      "\n",
      "    "
     ]
    },
    {
     "cell_type": "markdown",
     "metadata": {},
     "source": [
      "## Data Handleing\n",
      "###Lets Read Our data in Using Pandas:"
     ]
    },
    {
     "cell_type": "code",
     "collapsed": false,
     "input": [
      "df = pd.read_csv(\"Train.csv\")"
     ],
     "language": "python",
     "metadata": {},
     "outputs": [],
     "prompt_number": 11
    },
    {
     "cell_type": "heading",
     "level": 3,
     "metadata": {},
     "source": [
      "Lets take a look:"
     ]
    },
    {
     "cell_type": "code",
     "collapsed": false,
     "input": [
      "df.ix[:,0:5].head()"
     ],
     "language": "python",
     "metadata": {},
     "outputs": [
      {
       "html": [
        "<pre>\n",
        "&ltclass 'pandas.core.frame.DataFrame'&gt\n",
        "Int64Index: 5 entries, 0 to 4\n",
        "Data columns (total 5 columns):\n",
        "survived    5  non-null values\n",
        "pclass      5  non-null values\n",
        "name        5  non-null values\n",
        "sex         5  non-null values\n",
        "age         5  non-null values\n",
        "dtypes: float64(1), int64(2), object(2)\n",
        "</pre>"
       ],
       "output_type": "pyout",
       "prompt_number": 12,
       "text": [
        "   survived  pclass                                               name  \\\n",
        "0         0       3                            Braund, Mr. Owen Harris   \n",
        "1         1       1  Cumings, Mrs. John Bradley (Florence Briggs Th...   \n",
        "2         1       3                             Heikkinen, Miss. Laina   \n",
        "3         1       1       Futrelle, Mrs. Jacques Heath (Lily May Peel)   \n",
        "4         0       3                           Allen, Mr. William Henry   \n",
        "\n",
        "      sex  age  \n",
        "0    male   22  \n",
        "1  female   38  \n",
        "2  female   26  \n",
        "3  female   35  \n",
        "4    male   35  "
       ]
      }
     ],
     "prompt_number": 12
    },
    {
     "cell_type": "code",
     "collapsed": false,
     "input": [
      "df = df.drop(['ticket','cabin'], axis=1)"
     ],
     "language": "python",
     "metadata": {},
     "outputs": [],
     "prompt_number": 13
    },
    {
     "cell_type": "code",
     "collapsed": false,
     "input": [
      "#take care of nans in age\n",
      "df = df.dropna()"
     ],
     "language": "python",
     "metadata": {},
     "outputs": [],
     "prompt_number": 14
    },
    {
     "cell_type": "code",
     "collapsed": false,
     "input": [
      "fig = plt.figure(figsize(21,8), dpi=300)\n",
      "a = 0.2\n",
      "\n",
      "fig.add_subplot(221)\n",
      "df.survived.value_counts().plot(kind='bar')\n",
      "kde_res = KDE(df.survived)\n",
      "kde_res.fit()\n",
      "plt.plot(kde_res.support,kde_res.density)\n",
      "plt.fill_between(kde_res.support,kde_res.density, alpha=a)\n",
      "title(\"Distribution of our Predictions\")\n",
      "\n",
      "fig.add_subplot(222)\n",
      "#kde_gender=KDE(x['sex[T.male]'])\n",
      "plt.scatter(res.predict(),x['C(sex)[T.male]'] , alpha=a)\n",
      "title(\"The Change of Survival Probability by Gender (1 = Male)\")\n",
      "\n",
      "fig.add_subplot(223)\n",
      "plt.scatter(res.predict(),x['C(pclass)[T.3]'] , alpha=a)\n",
      "title(\"The Change of Survival Probability by Lower Class (1 = 3rd Class)\")\n",
      "\n",
      "fig.add_subplot(224)\n",
      "plt.scatter(res.predict(),x.age , alpha=a)\n",
      "title(\"The Change of Survival Probability by Age\")\n",
      "plt.ylabel(\"Age\")"
     ],
     "language": "python",
     "metadata": {},
     "outputs": [
      {
       "ename": "ValueError",
       "evalue": "Buffer dtype mismatch, expected 'DOUBLE' but got 'long long'",
       "output_type": "pyerr",
       "traceback": [
        "\u001b[1;31m---------------------------------------------------------------------------\u001b[0m\n\u001b[1;31mValueError\u001b[0m                                Traceback (most recent call last)",
        "\u001b[1;32m<ipython-input-23-aa4538c483b1>\u001b[0m in \u001b[0;36m<module>\u001b[1;34m()\u001b[0m\n\u001b[0;32m      5\u001b[0m \u001b[0mdf\u001b[0m\u001b[1;33m.\u001b[0m\u001b[0msurvived\u001b[0m\u001b[1;33m.\u001b[0m\u001b[0mvalue_counts\u001b[0m\u001b[1;33m(\u001b[0m\u001b[1;33m)\u001b[0m\u001b[1;33m.\u001b[0m\u001b[0mplot\u001b[0m\u001b[1;33m(\u001b[0m\u001b[0mkind\u001b[0m\u001b[1;33m=\u001b[0m\u001b[1;34m'bar'\u001b[0m\u001b[1;33m)\u001b[0m\u001b[1;33m\u001b[0m\u001b[0m\n\u001b[0;32m      6\u001b[0m \u001b[0mkde_res\u001b[0m \u001b[1;33m=\u001b[0m \u001b[0mKDE\u001b[0m\u001b[1;33m(\u001b[0m\u001b[0mdf\u001b[0m\u001b[1;33m.\u001b[0m\u001b[0msurvived\u001b[0m\u001b[1;33m)\u001b[0m\u001b[1;33m\u001b[0m\u001b[0m\n\u001b[1;32m----> 7\u001b[1;33m \u001b[0mkde_res\u001b[0m\u001b[1;33m.\u001b[0m\u001b[0mfit\u001b[0m\u001b[1;33m(\u001b[0m\u001b[1;33m)\u001b[0m\u001b[1;33m\u001b[0m\u001b[0m\n\u001b[0m\u001b[0;32m      8\u001b[0m \u001b[0mplt\u001b[0m\u001b[1;33m.\u001b[0m\u001b[0mplot\u001b[0m\u001b[1;33m(\u001b[0m\u001b[0mkde_res\u001b[0m\u001b[1;33m.\u001b[0m\u001b[0msupport\u001b[0m\u001b[1;33m,\u001b[0m\u001b[0mkde_res\u001b[0m\u001b[1;33m.\u001b[0m\u001b[0mdensity\u001b[0m\u001b[1;33m)\u001b[0m\u001b[1;33m\u001b[0m\u001b[0m\n\u001b[0;32m      9\u001b[0m \u001b[0mplt\u001b[0m\u001b[1;33m.\u001b[0m\u001b[0mfill_between\u001b[0m\u001b[1;33m(\u001b[0m\u001b[0mkde_res\u001b[0m\u001b[1;33m.\u001b[0m\u001b[0msupport\u001b[0m\u001b[1;33m,\u001b[0m\u001b[0mkde_res\u001b[0m\u001b[1;33m.\u001b[0m\u001b[0mdensity\u001b[0m\u001b[1;33m,\u001b[0m \u001b[0malpha\u001b[0m\u001b[1;33m=\u001b[0m\u001b[0ma\u001b[0m\u001b[1;33m)\u001b[0m\u001b[1;33m\u001b[0m\u001b[0m\n",
        "\u001b[1;32mC:\\Python27\\lib\\site-packages\\statsmodels\\nonparametric\\kde.pyc\u001b[0m in \u001b[0;36mfit\u001b[1;34m(self, kernel, bw, fft, weights, gridsize, adjust, cut, clip)\u001b[0m\n\u001b[0;32m    117\u001b[0m             density, grid, bw = kdensityfft(endog, kernel=kernel, bw=bw,\n\u001b[0;32m    118\u001b[0m                     \u001b[0madjust\u001b[0m\u001b[1;33m=\u001b[0m\u001b[0madjust\u001b[0m\u001b[1;33m,\u001b[0m \u001b[0mweights\u001b[0m\u001b[1;33m=\u001b[0m\u001b[0mweights\u001b[0m\u001b[1;33m,\u001b[0m \u001b[0mgridsize\u001b[0m\u001b[1;33m=\u001b[0m\u001b[0mgridsize\u001b[0m\u001b[1;33m,\u001b[0m\u001b[1;33m\u001b[0m\u001b[0m\n\u001b[1;32m--> 119\u001b[1;33m                     clip=clip, cut=cut)\n\u001b[0m\u001b[0;32m    120\u001b[0m         \u001b[1;32melse\u001b[0m\u001b[1;33m:\u001b[0m\u001b[1;33m\u001b[0m\u001b[0m\n\u001b[0;32m    121\u001b[0m             density, grid, bw = kdensity(endog, kernel=kernel, bw=bw,\n",
        "\u001b[1;32mC:\\Python27\\lib\\site-packages\\statsmodels\\nonparametric\\kde.pyc\u001b[0m in \u001b[0;36mkdensityfft\u001b[1;34m(X, kernel, bw, weights, gridsize, adjust, clip, cut, retgrid)\u001b[0m\n\u001b[0;32m    449\u001b[0m \u001b[1;33m\u001b[0m\u001b[0m\n\u001b[0;32m    450\u001b[0m \u001b[1;31m#NOTE: THE ABOVE IS WRONG, JUST TRY WITH LINEAR BINNING\u001b[0m\u001b[1;33m\u001b[0m\u001b[1;33m\u001b[0m\u001b[0m\n\u001b[1;32m--> 451\u001b[1;33m     \u001b[0mbinned\u001b[0m \u001b[1;33m=\u001b[0m \u001b[0mlinbin\u001b[0m\u001b[1;33m(\u001b[0m\u001b[0mX\u001b[0m\u001b[1;33m,\u001b[0m\u001b[0ma\u001b[0m\u001b[1;33m,\u001b[0m\u001b[0mb\u001b[0m\u001b[1;33m,\u001b[0m\u001b[0mgridsize\u001b[0m\u001b[1;33m)\u001b[0m\u001b[1;33m/\u001b[0m\u001b[1;33m(\u001b[0m\u001b[0mdelta\u001b[0m\u001b[1;33m*\u001b[0m\u001b[0mnobs\u001b[0m\u001b[1;33m)\u001b[0m\u001b[1;33m\u001b[0m\u001b[0m\n\u001b[0m\u001b[0;32m    452\u001b[0m \u001b[1;33m\u001b[0m\u001b[0m\n\u001b[0;32m    453\u001b[0m     \u001b[1;31m# step 2 compute FFT of the weights, using Munro (1976) FFT convention\u001b[0m\u001b[1;33m\u001b[0m\u001b[1;33m\u001b[0m\u001b[0m\n",
        "\u001b[1;32mC:\\Python27\\lib\\site-packages\\statsmodels\\nonparametric\\fast_linbin.pyd\u001b[0m in \u001b[0;36mstatsmodels.nonparametric.fast_linbin.linbin (statsmodels\\nonparametric\\fast_linbin.c:1127)\u001b[1;34m()\u001b[0m\n",
        "\u001b[1;31mValueError\u001b[0m: Buffer dtype mismatch, expected 'DOUBLE' but got 'long long'"
       ]
      },
      {
       "output_type": "display_data",
       "png": "[encoded data removed]"
      }
     ],
     "prompt_number": 23
    },
    {
     "cell_type": "markdown",
     "metadata": {},
     "source": [
      "###Explorator Visualization:\n",
      "\n",
      "The point of this comepetion is to predict if an induvidual will survive based on the test data, ie. Class, Sex, Age, Fare Price ect. \n",
      "Lets see if we can gain a better Understanding of who survied and died. \n",
      "<br />\n",
      "<br />\n",
      "First lets plot a bar graph of those who Survived Vs. Those who did not."
     ]
    },
    {
     "cell_type": "code",
     "collapsed": false,
     "input": [
      "#are there two unique distributions? Yeah\n",
      "plt.figure(figsize(8,6))\n",
      "df.survived.value_counts().plot(kind='barh', color=\"blue\", alpha=.65)\n",
      "title(\"Survival Breakdown (1 = Survived, 0 = Died)\")"
     ],
     "language": "python",
     "metadata": {},
     "outputs": []
    },
    {
     "cell_type": "markdown",
     "metadata": {},
     "source": [
      "###Now let\u2019s tease more structure out of the data,\n",
      "###Let\u2019s break the previous graph down by gender\n"
     ]
    },
    {
     "cell_type": "code",
     "collapsed": false,
     "input": [
      "#Are they male and female?\n",
      "plt.figure(figsize(8,6))\n",
      "df.survived[df.sex == 'male'].value_counts().plot(kind='barh',label='Male')\n",
      "df.survived[df.sex == 'female'].value_counts().plot(kind='barh', color='#FA2379',label='Female')\n",
      "title(\"Who Survied? with respect to Gender\"); legend(loc='best')"
     ],
     "language": "python",
     "metadata": {},
     "outputs": []
    },
    {
     "cell_type": "markdown",
     "metadata": {},
     "source": [
      "should be adjusted for % of gender in pop. yes more males in raw number surived but not percentage"
     ]
    },
    {
     "cell_type": "markdown",
     "metadata": {},
     "source": [
      "###Great! But Lets Go down even further:\n",
      "###Break it down by Gender and What Class they were travling in"
     ]
    },
    {
     "cell_type": "code",
     "collapsed": false,
     "input": [
      "#same realtionship between the two. but yes bumps are mostly male sur v female surv\n",
      "# is the bump class? here we will bucket classes as lowest class or any of the high classes. 3 is lowest class\n",
      "# building on the previous code\n",
      "fig=plt.figure(figsize=(20,6))\n",
      "#title(\"Who Survied? with respect to Gender and Class\")\n",
      "a=.65 # our alpha or opacity level.\n",
      "\n",
      "ax1=fig.add_subplot(141)\n",
      "df.survived[df.sex == 'female'][df.pclass != 3].value_counts().plot(kind='bar', label='female highclass', color='#FA2479', alpha=a)\n",
      "ax1.set_xticklabels([\"Survived\", \"Died\"], rotation=0)\n",
      "title(\"Who Survied? with respect to Gender and Class\"); legend(loc='best')\n",
      "\n",
      "\n",
      "ax2=fig.add_subplot(142, sharey=ax1)\n",
      "df.survived[df.sex == 'female'][df.pclass == 3].value_counts().plot(kind='bar', label='female, low class', color='pink', alpha=a)\n",
      "ax2.set_xticklabels([\"Died\",\"Survived\"], rotation=0)\n",
      "legend(loc='best')\n",
      "\n",
      "ax3=fig.add_subplot(143, sharey=ax1)\n",
      "df.survived[df.sex == 'male'][df.pclass == 3].value_counts().plot(kind='bar', label='male, low class',color='lightblue', alpha=a)\n",
      "ax3.set_xticklabels([\"Died\",\"Survived\"], rotation=0)\n",
      "legend(loc='best')\n",
      "\n",
      "ax4=fig.add_subplot(144, sharey=ax1)\n",
      "df.survived[df.sex == 'male'][df.pclass != 3].value_counts().plot(kind='bar', label='male highclass', alpha=a, color='steelblue')\n",
      "ax4.set_xticklabels([\"Died\",\"Survived\"], rotation=0)\n",
      "legend(loc='best')"
     ],
     "language": "python",
     "metadata": {},
     "outputs": []
    },
    {
     "cell_type": "heading",
     "level": 3,
     "metadata": {},
     "source": [
      "This is a typical process in interactive data analysis. First you start small and understand the most basic relationships and slowly increment the complexity of your analysis as you discover more and more about the data you\u2019re working with. Below is the progression of process laid out together:"
     ]
    },
    {
     "cell_type": "code",
     "collapsed": false,
     "input": [
      "fig=plt.figure(figsize(20,12))\n",
      "a=0.65\n",
      "\n",
      "fig.add_subplot(341)\n",
      "df.survived.value_counts().plot(kind='bar', color=\"blue\", alpha=a)\n",
      "title(\"Step. 1\")\n",
      "\n",
      "fig.add_subplot(345)\n",
      "#Are they male and female?\n",
      "df.survived[df.sex == 'male'].value_counts().plot(kind='bar',label='Male')\n",
      "df.survived[df.sex == 'female'].value_counts().plot(kind='bar', color='#FA2379',label='Female')\n",
      "title(\"Step. 2\"); legend(loc='best')\n",
      "\n",
      "ax1=fig.add_subplot(349)\n",
      "df.survived[df.sex == 'female'][df.pclass != 3].value_counts().plot(kind='bar', label='female highclass', color='#FA2479', alpha=a)\n",
      "ax1.set_xticklabels([\"Survived\", \"Died\"], rotation=0)\n",
      "title(\"Step. 3\"); legend(loc='best')\n",
      "\n",
      "\n",
      "ax2=fig.add_subplot(3,4,10, sharey=ax1)\n",
      "df.survived[df.sex=='female'][df.pclass==3].value_counts().plot(kind='bar', label='female, low class', color='pink', alpha=a)\n",
      "ax2.set_xticklabels([\"Died\",\"Survived\"], rotation=0)\n",
      "legend(loc='best')\n",
      "\n",
      "ax3=fig.add_subplot(3,4,11, sharey=ax1)\n",
      "df.survived[df.sex == 'male'][df.pclass == 3].value_counts().plot(kind='bar', label='male, low class',color='lightblue', alpha=a)\n",
      "ax3.set_xticklabels([\"Died\",\"Survived\"], rotation=0)\n",
      "legend(loc='best')\n",
      "\n",
      "ax4=fig.add_subplot(3,4,12, sharey=ax1)\n",
      "df.survived[df.sex == 'male'][df.pclass != 3].value_counts().plot(kind='bar', label='male highclass', alpha=a, color='steelblue')\n",
      "ax4.set_xticklabels([\"Died\",\"Survived\"], rotation=0)\n",
      "legend(loc='best')"
     ],
     "language": "python",
     "metadata": {},
     "outputs": []
    },
    {
     "cell_type": "markdown",
     "metadata": {},
     "source": [
      "#### Now that we have a basic understanding of What we are trying to predict, lets predict it.\n",
      "####Lets run some regressions:"
     ]
    },
    {
     "cell_type": "markdown",
     "metadata": {},
     "source": [
      "###Supervised Machine Learning\n",
      "####Logistic Regresion"
     ]
    },
    {
     "cell_type": "code",
     "collapsed": false,
     "input": [
      "df.columns"
     ],
     "language": "python",
     "metadata": {},
     "outputs": []
    },
    {
     "cell_type": "markdown",
     "metadata": {},
     "source": [
      "ran with out pclass becuase it and fare must be mutilcol res= 7799, which is just with bench mark"
     ]
    },
    {
     "cell_type": "code",
     "collapsed": false,
     "input": [
      "#model formula\n",
      "formula = 'survived ~ C(pclass) + C(sex) + age + sibsp  + C(embarked)'"
     ],
     "language": "python",
     "metadata": {},
     "outputs": []
    },
    {
     "cell_type": "code",
     "collapsed": false,
     "input": [
      "y,x = dmatrices(formula, data=df, return_type='dataframe')\n",
      "model = sm.Logit(y,x)\n",
      "res = model.fit()\n",
      "res.summary()"
     ],
     "language": "python",
     "metadata": {},
     "outputs": []
    },
    {
     "cell_type": "heading",
     "level": 1,
     "metadata": {},
     "source": [
      "How did we do?"
     ]
    },
    {
     "cell_type": "heading",
     "level": 3,
     "metadata": {},
     "source": [
      "Lets Look at our predictions graphically:"
     ]
    },
    {
     "cell_type": "code",
     "collapsed": false,
     "input": [
      "fig = plt.figure(figsize(21,8), dpi=300)\n",
      "a = .2\n",
      "\n",
      "fig.add_subplot(221)\n",
      "kde_res = KDE(res.predict())\n",
      "kde_res.fit()\n",
      "plt.plot(kde_res.support,kde_res.density)\n",
      "plt.fill_between(kde_res.support,kde_res.density, alpha=a)\n",
      "title(\"Distribution of our Predictions\")\n",
      "\n",
      "fig.add_subplot(222)\n",
      "#kde_gender=KDE(x['sex[T.male]']\n",
      "plt.scatter(res.predict(),x['C(sex)[T.male]'] , alpha=a)\n",
      "title(\"The Change of Survival Probability by Gender (1 = Male)\")\n",
      "\n",
      "fig.add_subplot(223)\n",
      "plt.scatter(res.predict(),x['C(pclass)[T.3]'] , alpha=a)\n",
      "title(\"The Change of Survival Probability by Lower Class (1 = 3rd Class)\")\n",
      "\n",
      "fig.add_subplot(224)\n",
      "plt.scatter(res.predict(),x.age , alpha=a)\n",
      "title(\"The Change of Survival Probability by Age\")\n",
      "plt.ylabel(\"Age\")"
     ],
     "language": "python",
     "metadata": {},
     "outputs": []
    },
    {
     "cell_type": "code",
     "collapsed": false,
     "input": [
      "lowess = smoothers_lowess.lowess(res.predict(),np.linspace(0,1,len(res.predict())/1))"
     ],
     "language": "python",
     "metadata": {},
     "outputs": []
    },
    {
     "cell_type": "code",
     "collapsed": false,
     "input": [
      "plt.figure(figsize(8,6))\n",
      "plt.scatter(res.predict(),np.linspace(0,1,len(res.predict())/1), alpha=.6)\n",
      "plt.plot(lowess[:,0],lowess[:,1], lw=2, label='Lowess Fit', color='r'); legend(loc='best')"
     ],
     "language": "python",
     "metadata": {},
     "outputs": []
    },
    {
     "cell_type": "code",
     "collapsed": false,
     "input": [
      "test_data = pd.read_csv(PATH+\"test.csv\")"
     ],
     "language": "python",
     "metadata": {},
     "outputs": []
    },
    {
     "cell_type": "code",
     "collapsed": false,
     "input": [
      "test_data"
     ],
     "language": "python",
     "metadata": {},
     "outputs": []
    },
    {
     "cell_type": "code",
     "collapsed": false,
     "input": [
      "# add our y to our test data\n",
      "test_data['survived'] = 1.23"
     ],
     "language": "python",
     "metadata": {},
     "outputs": []
    },
    {
     "cell_type": "code",
     "collapsed": false,
     "input": [
      "compared_resuts = ka.regress_pred_output(test_data,res,'survived')"
     ],
     "language": "python",
     "metadata": {},
     "outputs": []
    },
    {
     "cell_type": "code",
     "collapsed": false,
     "input": [
      "def binary_bool(s):\n",
      "    if s>.5:\n",
      "        s=1\n",
      "    else:\n",
      "        s=0\n",
      "    return s"
     ],
     "language": "python",
     "metadata": {},
     "outputs": []
    },
    {
     "cell_type": "code",
     "collapsed": false,
     "input": [
      "compared_resuts['survived_binary'] = compared_resuts.survived.apply(binary_bool)"
     ],
     "language": "python",
     "metadata": {},
     "outputs": []
    },
    {
     "cell_type": "code",
     "collapsed": false,
     "input": [
      "compared_resuts.survived_binary.value_counts().plot(kind='barh') \n",
      "#looks really similar lets see how we did:"
     ],
     "language": "python",
     "metadata": {},
     "outputs": []
    },
    {
     "cell_type": "code",
     "collapsed": false,
     "input": [
      "# output and submit to kaggel\n",
      "compared_resuts.to_csv(PATH+\"logitregres003.csv\")"
     ],
     "language": "python",
     "metadata": {},
     "outputs": []
    },
    {
     "cell_type": "heading",
     "level": 3,
     "metadata": {},
     "source": [
      "Results = 0.77033"
     ]
    },
    {
     "cell_type": "markdown",
     "metadata": {},
     "source": [
      "Needs imporvement"
     ]
    },
    {
     "cell_type": "code",
     "collapsed": false,
     "input": [
      "compared_resuts.survived # theres NaNs and their shouldnt be"
     ],
     "language": "python",
     "metadata": {},
     "outputs": [
      {
       "ename": "NameError",
       "evalue": "name 'compared_resuts' is not defined",
       "output_type": "pyerr",
       "traceback": [
        "\u001b[1;31m---------------------------------------------------------------------------\u001b[0m\n\u001b[1;31mNameError\u001b[0m                                 Traceback (most recent call last)",
        "\u001b[1;32m<ipython-input-16-cb21b802fdeb>\u001b[0m in \u001b[0;36m<module>\u001b[1;34m()\u001b[0m\n\u001b[1;32m----> 1\u001b[1;33m \u001b[0mcompared_resuts\u001b[0m\u001b[1;33m.\u001b[0m\u001b[0msurvived\u001b[0m \u001b[1;31m# theres NaNs and their shouldnt be\u001b[0m\u001b[1;33m\u001b[0m\u001b[0m\n\u001b[0m",
        "\u001b[1;31mNameError\u001b[0m: name 'compared_resuts' is not defined"
       ]
      }
     ],
     "prompt_number": 16
    },
    {
     "cell_type": "code",
     "collapsed": false,
     "input": [
      "#Same treatment as before\n",
      "compared_resuts = compared_resuts.drop(['ticket','cabin'], axis=1)"
     ],
     "language": "python",
     "metadata": {},
     "outputs": []
    },
    {
     "cell_type": "code",
     "collapsed": false,
     "input": [
      "compres2 = compared_resuts.dropna()"
     ],
     "language": "python",
     "metadata": {},
     "outputs": []
    },
    {
     "cell_type": "code",
     "collapsed": false,
     "input": [
      "compres2.survived[compres2.sex == 'male'].plot(kind='kde')\n",
      "compres2.survived[compres2.sex == 'female'].plot(kind='kde')\n",
      "legend(('male','female'))"
     ],
     "language": "python",
     "metadata": {},
     "outputs": []
    },
    {
     "cell_type": "markdown",
     "metadata": {},
     "source": [
      "females are much more likely to survive than males. While the distribution of males seems realtivly consistent. The female dist looks stacked. Gosh they're ugly"
     ]
    },
    {
     "cell_type": "markdown",
     "metadata": {},
     "source": [
      "theres seems to be more struuture here. You can tell by the flat tops and bumps. Lets tease it out:"
     ]
    },
    {
     "cell_type": "code",
     "collapsed": false,
     "input": [
      "# Adjust for class\n",
      "compres2.survived[compres2.sex == 'female'][compres2.pclass == 3].plot(kind='kde')\n",
      "compres2.survived[compres2.sex == 'female'][compres2.pclass != 3].plot(kind='kde')\n",
      "\n",
      "compres2.survived[compres2.sex == 'male'][compres2.pclass == 3].plot(kind='kde')\n",
      "compres2.survived[compres2.sex == 'male'][compres2.pclass != 3].plot(kind='kde')\n",
      "\n",
      "title(\"Who Survied? with respect to Gender and Class\"); legend(('female, low class', 'female highclass','male, low class', 'male highclass'),bbox_to_anchor=(1.05, 1), loc=2, borderaxespad=0.)"
     ],
     "language": "python",
     "metadata": {},
     "outputs": [
      {
       "ename": "NameError",
       "evalue": "name 'compres2' is not defined",
       "output_type": "pyerr",
       "traceback": [
        "\u001b[1;31m---------------------------------------------------------------------------\u001b[0m\n\u001b[1;31mNameError\u001b[0m                                 Traceback (most recent call last)",
        "\u001b[1;32m<ipython-input-17-2f6bd17a45be>\u001b[0m in \u001b[0;36m<module>\u001b[1;34m()\u001b[0m\n\u001b[0;32m      1\u001b[0m \u001b[1;31m# Adjust for class\u001b[0m\u001b[1;33m\u001b[0m\u001b[1;33m\u001b[0m\u001b[0m\n\u001b[1;32m----> 2\u001b[1;33m \u001b[0mcompres2\u001b[0m\u001b[1;33m.\u001b[0m\u001b[0msurvived\u001b[0m\u001b[1;33m[\u001b[0m\u001b[0mcompres2\u001b[0m\u001b[1;33m.\u001b[0m\u001b[0msex\u001b[0m\u001b[1;33m==\u001b[0m\u001b[1;34m'female'\u001b[0m\u001b[1;33m]\u001b[0m\u001b[1;33m[\u001b[0m\u001b[0mcompres2\u001b[0m\u001b[1;33m.\u001b[0m\u001b[0mpclass\u001b[0m\u001b[1;33m==\u001b[0m\u001b[1;36m3\u001b[0m\u001b[1;33m]\u001b[0m\u001b[1;33m.\u001b[0m\u001b[0mplot\u001b[0m\u001b[1;33m(\u001b[0m\u001b[0mkind\u001b[0m\u001b[1;33m=\u001b[0m\u001b[1;34m'kde'\u001b[0m\u001b[1;33m)\u001b[0m\u001b[1;33m\u001b[0m\u001b[0m\n\u001b[0m\u001b[0;32m      3\u001b[0m \u001b[0mcompres2\u001b[0m\u001b[1;33m.\u001b[0m\u001b[0msurvived\u001b[0m\u001b[1;33m[\u001b[0m\u001b[0mcompres2\u001b[0m\u001b[1;33m.\u001b[0m\u001b[0msex\u001b[0m\u001b[1;33m==\u001b[0m\u001b[1;34m'female'\u001b[0m\u001b[1;33m]\u001b[0m\u001b[1;33m[\u001b[0m\u001b[0mcompres2\u001b[0m\u001b[1;33m.\u001b[0m\u001b[0mpclass\u001b[0m\u001b[1;33m!=\u001b[0m\u001b[1;36m3\u001b[0m\u001b[1;33m]\u001b[0m\u001b[1;33m.\u001b[0m\u001b[0mplot\u001b[0m\u001b[1;33m(\u001b[0m\u001b[0mkind\u001b[0m\u001b[1;33m=\u001b[0m\u001b[1;34m'kde'\u001b[0m\u001b[1;33m)\u001b[0m\u001b[1;33m\u001b[0m\u001b[0m\n\u001b[0;32m      4\u001b[0m \u001b[1;33m\u001b[0m\u001b[0m\n\u001b[0;32m      5\u001b[0m \u001b[0mcompres2\u001b[0m\u001b[1;33m.\u001b[0m\u001b[0msurvived\u001b[0m\u001b[1;33m[\u001b[0m\u001b[0mcompres2\u001b[0m\u001b[1;33m.\u001b[0m\u001b[0msex\u001b[0m\u001b[1;33m==\u001b[0m\u001b[1;34m'male'\u001b[0m\u001b[1;33m]\u001b[0m\u001b[1;33m[\u001b[0m\u001b[0mcompres2\u001b[0m\u001b[1;33m.\u001b[0m\u001b[0mpclass\u001b[0m\u001b[1;33m==\u001b[0m\u001b[1;36m3\u001b[0m\u001b[1;33m]\u001b[0m\u001b[1;33m.\u001b[0m\u001b[0mplot\u001b[0m\u001b[1;33m(\u001b[0m\u001b[0mkind\u001b[0m\u001b[1;33m=\u001b[0m\u001b[1;34m'kde'\u001b[0m\u001b[1;33m)\u001b[0m\u001b[1;33m\u001b[0m\u001b[0m\n",
        "\u001b[1;31mNameError\u001b[0m: name 'compres2' is not defined"
       ]
      }
     ],
     "prompt_number": 17
    },
    {
     "cell_type": "code",
     "collapsed": false,
     "input": [
      "#female high class definitly has more in it. but the left handed tails of each of the serpations  are strange as well"
     ],
     "language": "python",
     "metadata": {},
     "outputs": []
    },
    {
     "cell_type": "heading",
     "level": 1,
     "metadata": {},
     "source": [
      "Perphaps certian types of people got on at certian destinations?"
     ]
    },
    {
     "cell_type": "heading",
     "level": 3,
     "metadata": {},
     "source": [
      "Get ready for a big graph:\n"
     ]
    },
    {
     "cell_type": "code",
     "collapsed": false,
     "input": [
      "compres2.embarked.value_counts()"
     ],
     "language": "python",
     "metadata": {},
     "outputs": []
    },
    {
     "cell_type": "markdown",
     "metadata": {},
     "source": [
      "As you embark from Q to S (blue to magenta/yellow) the amount of people that survies increases. \n",
      "This is consistent acrros genders\n",
      "Male distributions are less likely than females.\n",
      "Even though the sample from s is much greater than Q and C combined"
     ]
    },
    {
     "cell_type": "markdown",
     "metadata": {},
     "source": [
      "not verry illistrative, lets get a better grap"
     ]
    },
    {
     "cell_type": "code",
     "collapsed": false,
     "input": [
      "df = df.sort_index()"
     ],
     "language": "python",
     "metadata": {},
     "outputs": [],
     "prompt_number": 18
    },
    {
     "cell_type": "code",
     "collapsed": false,
     "input": [
      "plt.scatter(df.index,res.predict())"
     ],
     "language": "python",
     "metadata": {},
     "outputs": [
      {
       "ename": "NameError",
       "evalue": "name 'res' is not defined",
       "output_type": "pyerr",
       "traceback": [
        "\u001b[1;31m---------------------------------------------------------------------------\u001b[0m\n\u001b[1;31mNameError\u001b[0m                                 Traceback (most recent call last)",
        "\u001b[1;32m<ipython-input-19-8e18b1e53387>\u001b[0m in \u001b[0;36m<module>\u001b[1;34m()\u001b[0m\n\u001b[1;32m----> 1\u001b[1;33m \u001b[0mplt\u001b[0m\u001b[1;33m.\u001b[0m\u001b[0mscatter\u001b[0m\u001b[1;33m(\u001b[0m\u001b[0mdf\u001b[0m\u001b[1;33m.\u001b[0m\u001b[0mindex\u001b[0m\u001b[1;33m,\u001b[0m\u001b[0mres\u001b[0m\u001b[1;33m.\u001b[0m\u001b[0mpredict\u001b[0m\u001b[1;33m(\u001b[0m\u001b[1;33m)\u001b[0m\u001b[1;33m)\u001b[0m\u001b[1;33m\u001b[0m\u001b[0m\n\u001b[0m",
        "\u001b[1;31mNameError\u001b[0m: name 'res' is not defined"
       ]
      }
     ],
     "prompt_number": 19
    },
    {
     "cell_type": "code",
     "collapsed": false,
     "input": [],
     "language": "python",
     "metadata": {},
     "outputs": []
    },
    {
     "cell_type": "code",
     "collapsed": false,
     "input": [
      "plt.plot(np.sort(res.predict()))\n",
      "plt.plot(res.predict())"
     ],
     "language": "python",
     "metadata": {},
     "outputs": []
    },
    {
     "cell_type": "code",
     "collapsed": false,
     "input": [
      "df.columns"
     ],
     "language": "python",
     "metadata": {},
     "outputs": []
    },
    {
     "cell_type": "code",
     "collapsed": false,
     "input": [
      "import sklearn.ensemble as ske"
     ],
     "language": "python",
     "metadata": {},
     "outputs": []
    },
    {
     "cell_type": "code",
     "collapsed": false,
     "input": [
      "y,x = dmatrices(formula,data=df, return_type='dataframe')"
     ],
     "language": "python",
     "metadata": {},
     "outputs": []
    },
    {
     "cell_type": "code",
     "collapsed": false,
     "input": [
      "results = ske.RandomForestClassifier(n_estimators=100).fit(x,y)"
     ],
     "language": "python",
     "metadata": {},
     "outputs": []
    },
    {
     "cell_type": "code",
     "collapsed": false,
     "input": [
      "z = results.score(x,y)\n",
      "z"
     ],
     "language": "python",
     "metadata": {},
     "outputs": []
    },
    {
     "cell_type": "heading",
     "level": 3,
     "metadata": {},
     "source": [
      "So that was easy for you huh? Lets try somthing a little more 'fitting' then:"
     ]
    },
    {
     "cell_type": "code",
     "collapsed": false,
     "input": [
      "mytar,mydat = dmatrices(formula,data=df, return_type='dataframe')\n",
      "mydat.columns"
     ],
     "language": "python",
     "metadata": {},
     "outputs": [
      {
       "ename": "NameError",
       "evalue": "name 'formula' is not defined",
       "output_type": "pyerr",
       "traceback": [
        "\u001b[1;31m---------------------------------------------------------------------------\u001b[0m\n\u001b[1;31mNameError\u001b[0m                                 Traceback (most recent call last)",
        "\u001b[1;32m<ipython-input-20-3a7b8c146030>\u001b[0m in \u001b[0;36m<module>\u001b[1;34m()\u001b[0m\n\u001b[1;32m----> 1\u001b[1;33m \u001b[0mmytar\u001b[0m\u001b[1;33m,\u001b[0m\u001b[0mmydat\u001b[0m\u001b[1;33m=\u001b[0m\u001b[0mdmatrices\u001b[0m\u001b[1;33m(\u001b[0m\u001b[0mformula\u001b[0m\u001b[1;33m,\u001b[0m\u001b[0mdata\u001b[0m\u001b[1;33m=\u001b[0m\u001b[0mdf\u001b[0m\u001b[1;33m,\u001b[0m \u001b[0mreturn_type\u001b[0m\u001b[1;33m=\u001b[0m\u001b[1;34m'dataframe'\u001b[0m\u001b[1;33m)\u001b[0m\u001b[1;33m\u001b[0m\u001b[0m\n\u001b[0m\u001b[0;32m      2\u001b[0m \u001b[0mmydat\u001b[0m\u001b[1;33m.\u001b[0m\u001b[0mcolumns\u001b[0m\u001b[1;33m\u001b[0m\u001b[0m\n",
        "\u001b[1;31mNameError\u001b[0m: name 'formula' is not defined"
       ]
      }
     ],
     "prompt_number": 20
    },
    {
     "cell_type": "code",
     "collapsed": false,
     "input": [
      "mytar,mydat = dmatrices(formula,data=df, return_type='matrix')\n",
      "\n",
      "X = np.asarray(mydat)\n",
      "X = X[:,[6,3]] # why does it expect 2 features. I have 9 man? [3,6] -- too long [2,3] - pretty sweet DBs [3,1] --standard DBs [7,3] -very cool DBs\n",
      "\n",
      "y = np.asarray(mytar)\n",
      "y = y.flatten()      # needs to be 1 dimenstional so we flatten. it comes out of dmatirces with a shape. \n",
      "\n",
      "n_sample = len(X)\n",
      "\n",
      "np.random.seed(0)\n",
      "order = np.random.permutation(n_sample)\n",
      "\n",
      "X = X[order]\n",
      "y = y[order].astype(np.float)\n",
      "\n",
      "# do a cross validation\n",
      "X_train = X[:.9 * n_sample]\n",
      "y_train = y[:.9 * n_sample]\n",
      "X_test = X[.9 * n_sample:]\n",
      "y_test = y[.9 * n_sample:]\n",
      "\n",
      "# fit the model\n",
      "for fig_num, kernel in enumerate(('linear', 'rbf', 'poly')):\n",
      "    clf = svm.SVC(kernel=kernel, gamma=3)\n",
      "    clf.fit(X_train, y_train)\n",
      "\n",
      "    pl.figure(fig_num)\n",
      "    pl.clf()\n",
      "    pl.scatter(X[:, 0], X[:, 1], c=y, zorder=10, cmap=pl.cm.Paired)\n",
      "\n",
      "    # Circle out the test data\n",
      "    pl.scatter(X_test[:, 0], X_test[:, 1], s=80, facecolors='none', zorder=10)\n",
      "\n",
      "    pl.axis('tight')\n",
      "    x_min = X[:, 0].min()\n",
      "    x_max = X[:, 0].max()\n",
      "    y_min = X[:, 1].min()\n",
      "    y_max = X[:, 1].max()\n",
      "\n",
      "    XX, YY = np.mgrid[x_min:x_max:200j, y_min:y_max:200j]\n",
      "    Z = clf.decision_function(np.c_[XX.ravel(), YY.ravel()])\n",
      "\n",
      "    # Put the result into a color plot\n",
      "    Z = Z.reshape(XX.shape)\n",
      "    pl.pcolormesh(XX, YY, Z > 0, cmap=pl.cm.Paired)\n",
      "    pl.contour(XX, YY, Z, colors=['k', 'k', 'k'], linestyles=['--', '-', '--'],\n",
      "               levels=[-.5, 0, .5])\n",
      "\n",
      "    pl.title(kernel)\n",
      "pl.show()"
     ],
     "language": "python",
     "metadata": {},
     "outputs": [
      {
       "ename": "NameError",
       "evalue": "name 'formula' is not defined",
       "output_type": "pyerr",
       "traceback": [
        "\u001b[1;31m---------------------------------------------------------------------------\u001b[0m\n\u001b[1;31mNameError\u001b[0m                                 Traceback (most recent call last)",
        "\u001b[1;32m<ipython-input-21-70dd18adaf9f>\u001b[0m in \u001b[0;36m<module>\u001b[1;34m()\u001b[0m\n\u001b[1;32m----> 1\u001b[1;33m \u001b[0mmytar\u001b[0m\u001b[1;33m,\u001b[0m\u001b[0mmydat\u001b[0m\u001b[1;33m=\u001b[0m\u001b[0mdmatrices\u001b[0m\u001b[1;33m(\u001b[0m\u001b[0mformula\u001b[0m\u001b[1;33m,\u001b[0m\u001b[0mdata\u001b[0m\u001b[1;33m=\u001b[0m\u001b[0mdf\u001b[0m\u001b[1;33m,\u001b[0m \u001b[0mreturn_type\u001b[0m\u001b[1;33m=\u001b[0m\u001b[1;34m'matrix'\u001b[0m\u001b[1;33m)\u001b[0m\u001b[1;33m\u001b[0m\u001b[0m\n\u001b[0m\u001b[0;32m      2\u001b[0m \u001b[1;33m\u001b[0m\u001b[0m\n\u001b[0;32m      3\u001b[0m \u001b[0mX\u001b[0m\u001b[1;33m=\u001b[0m\u001b[0mnp\u001b[0m\u001b[1;33m.\u001b[0m\u001b[0masarray\u001b[0m\u001b[1;33m(\u001b[0m\u001b[0mmydat\u001b[0m\u001b[1;33m)\u001b[0m\u001b[1;33m\u001b[0m\u001b[0m\n\u001b[0;32m      4\u001b[0m \u001b[0mX\u001b[0m \u001b[1;33m=\u001b[0m \u001b[0mX\u001b[0m\u001b[1;33m[\u001b[0m\u001b[1;33m:\u001b[0m\u001b[1;33m,\u001b[0m\u001b[1;33m[\u001b[0m\u001b[1;36m6\u001b[0m\u001b[1;33m,\u001b[0m\u001b[1;36m3\u001b[0m\u001b[1;33m]\u001b[0m\u001b[1;33m]\u001b[0m \u001b[1;31m# why does it expect 2 features. I have 9 man? [3,6] -- too long [2,3] - pretty sweet DBs [3,1] --standard DBs [7,3] -very cool DBs\u001b[0m\u001b[1;33m\u001b[0m\u001b[0m\n\u001b[0;32m      5\u001b[0m \u001b[1;33m\u001b[0m\u001b[0m\n",
        "\u001b[1;31mNameError\u001b[0m: name 'formula' is not defined"
       ]
      }
     ],
     "prompt_number": 21
    },
    {
     "cell_type": "code",
     "collapsed": false,
     "input": [
      "clf = svm.SVC(kernel='poly', gamma=3).fit(X_train, y_train)"
     ],
     "language": "python",
     "metadata": {},
     "outputs": []
    },
    {
     "cell_type": "code",
     "collapsed": false,
     "input": [
      "y,x = dmatrices(formula,data=test_data, return_type='dataframe')\n",
      "x.columns"
     ],
     "language": "python",
     "metadata": {},
     "outputs": []
    },
    {
     "cell_type": "code",
     "collapsed": false,
     "input": [
      "res_svm = clf.predict(x.ix[:,[6,3]].dropna())\n",
      "res_svm = DataFrame(res_svm,columns=['Survived'])\n",
      "res_svm.to_csv(PATH+\"svm_poly_63_g10.csv\")"
     ],
     "language": "python",
     "metadata": {},
     "outputs": []
    },
    {
     "cell_type": "code",
     "collapsed": false,
     "input": [
      "res_svm.Survived.value_counts().plot(kind=\"bar\")"
     ],
     "language": "python",
     "metadata": {},
     "outputs": []
    },
    {
     "cell_type": "code",
     "collapsed": false,
     "input": [
      "def age_nan(s,df):\n",
      "    m=df.age.mean()\n",
      "    if s == np.nan:\n",
      "        s=m\n",
      "    return s"
     ],
     "language": "python",
     "metadata": {},
     "outputs": []
    },
    {
     "cell_type": "code",
     "collapsed": false,
     "input": [
      "df.age.mean()"
     ],
     "language": "python",
     "metadata": {},
     "outputs": []
    },
    {
     "cell_type": "code",
     "collapsed": false,
     "input": [
      "pwd"
     ],
     "language": "python",
     "metadata": {},
     "outputs": []
    },
    {
     "cell_type": "code",
     "collapsed": false,
     "input": [
      "%%cmd\n",
      "git add titanic.ipynb\n",
      "git commit"
     ],
     "language": "python",
     "metadata": {},
     "outputs": []
    },
    {
     "cell_type": "code",
     "collapsed": false,
     "input": [
      "!git pull origin master"
     ],
     "language": "python",
     "metadata": {},
     "outputs": []
    },
    {
     "cell_type": "code",
     "collapsed": false,
     "input": [],
     "language": "python",
     "metadata": {},
     "outputs": []
    }
   ],
   "metadata": {}
  }
 ]
}